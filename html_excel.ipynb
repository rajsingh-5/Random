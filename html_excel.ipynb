{
 "cells": [
  {
   "cell_type": "code",
   "execution_count": 16,
   "id": "a5f72438",
   "metadata": {},
   "outputs": [],
   "source": [
    "from bs4 import BeautifulSoup\n",
    "import os\n",
    "import pandas as pd\n",
    "import xlsxwriter\n",
    "with open('C:/Users/ACER/Downloads/BRE_1-2023-03-13-08-58-37-219-0.html') as f:\n",
    "    html_string = f.read()\n",
    "soup = BeautifulSoup(html_string, 'html.parser')\n",
    "# Find the first div tag in the HTML file\n",
    "code = soup.find_all('code')\n",
    "request = os.getcwd() + \"\\\\Request\"\n",
    "response = os.getcwd() + \"\\\\Response\"\n",
    "\n",
    "abc = []\n",
    "for item in code:\n",
    "    abc.append(item)\n",
    "counter = 0\n",
    "num = 1\n",
    "num1 = 1\n",
    "\n",
    "for i in abc:\n",
    "    i = str(i)\n",
    "    if counter % 2 == 0:\n",
    "        if 1<=num<=9:\n",
    "            with open(f\"{request}\\\\0{num}_Request.txt\", mode=\"w\", encoding=\"utf-8\") as f:\n",
    "                f.write(i.replace('<code class=\"prettyPrint\" id=\"copyReqText-0\">','').replace('</code>','').replace('<code class=\"prettyPrint\" id=\"copyText-a021efbe-13bf-4e3d-b64e-c4381c5af8bd\">',''))\n",
    "        else:\n",
    "            with open(f\"{request}\\\\{num}_Request.txt\", mode=\"w\", encoding=\"utf-8\") as f:\n",
    "                f.write(i.replace('<code class=\"prettyPrint\" id=\"copyReqText-0\">','').replace('</code>','').replace('<code class=\"prettyPrint\" id=\"copyText-a021efbe-13bf-4e3d-b64e-c4381c5af8bd\">',''))\n",
    "        if num == 73:\n",
    "            break\n",
    "        num = num +1\n",
    "    else:\n",
    "        if 1<=num<=9:\n",
    "            with open(f\"{response}\\\\0{num1}_Response.txt\", mode=\"w\", encoding=\"utf-8\") as f:\n",
    "                f.write(i.replace('<code class=\"prettyPrint\" id=\"copyReqText-0\">','').replace('</code>','').replace('<code class=\"prettyPrint\" id=\"copyText-a021efbe-13bf-4e3d-b64e-c4381c5af8bd\">',''))\n",
    "        else:\n",
    "            with open(f\"{response}\\\\{num1}_Response.txt\", mode=\"w\", encoding=\"utf-8\") as f:\n",
    "                f.write(i.replace('<code class=\"prettyPrint\" id=\"copyReqText-0\">','').replace('</code>','').replace('<code class=\"prettyPrint\" id=\"copyText-a021efbe-13bf-4e3d-b64e-c4381c5af8bd\">',''))\n",
    "        \n",
    "        num1 +=1\n",
    "    counter += 1"
   ]
  },
  {
   "cell_type": "code",
   "execution_count": 64,
   "id": "531ed419",
   "metadata": {},
   "outputs": [],
   "source": [
    "import os\n",
    "import pandas as pd\n",
    "import xlsxwriter\n",
    "folder = os.getcwd()"
   ]
  },
  {
   "cell_type": "code",
   "execution_count": 65,
   "id": "ce17d9d9",
   "metadata": {},
   "outputs": [],
   "source": [
    "# Creating New Workbook and also adding sheet with name \"sheet\"\n",
    "wb = xlsxwriter.Workbook(r'C:\\Users\\ACER\\Request_Response.xlsx')\n",
    "Sheet1 = wb.add_worksheet(\"sheet\")\n",
    "\n",
    "index_row = 0\n",
    "column = 0\n",
    "index_row = 0\n",
    "column = 1\n",
    "for i in abc:\n",
    "    i=str(i)\n",
    "    Sheet1.write_url(column,index_row, i.replace('<code class=\"prettyPrint\" id=\"copyReqText-0\">','').replace('</code>','').replace('<code class=\"prettyPrint\" id=\"copyText-a021efbe-13bf-4e3d-b64e-c4381c5af8bd\">',''))      \n",
    "    index_row = index_row + 1\n",
    "    if index_row == 2:\n",
    "        column = column + 1 \n",
    "        index_row = 0\n",
    "wb.close()"
   ]
  },
  {
   "cell_type": "code",
   "execution_count": 66,
   "id": "c8f1c9d0",
   "metadata": {},
   "outputs": [
    {
     "data": {
      "text/plain": [
       "144"
      ]
     },
     "execution_count": 66,
     "metadata": {},
     "output_type": "execute_result"
    }
   ],
   "source": [
    "len(abc)"
   ]
  },
  {
   "cell_type": "code",
   "execution_count": 68,
   "id": "070675d0",
   "metadata": {},
   "outputs": [
    {
     "data": {
      "text/plain": [
       "list"
      ]
     },
     "execution_count": 68,
     "metadata": {},
     "output_type": "execute_result"
    }
   ],
   "source": [
    "type(files)"
   ]
  },
  {
   "cell_type": "code",
   "execution_count": 26,
   "id": "5194f85b",
   "metadata": {},
   "outputs": [],
   "source": [
    "# Creating New Workbook and also adding sheet with name \"sheet\"\n",
    "wb = xlsxwriter.Workbook(r'C:\\Users\\ACER\\Request_Response.xlsx')\n",
    "Sheet1 = wb.add_worksheet(\"sheet\")\n",
    "\n",
    "files = []\n",
    "folder = os.getcwd() + \"\\\\Request\"\n",
    "# print(folder)\n",
    "for file in os.listdir(folder):\n",
    "    if file.endswith('.txt'):\n",
    "#         print(file)\n",
    "        files.append(file)\n",
    "# files = files.sort()\n",
    "files_sorted = sorted(files, key=lambda x: str(x))\n",
    "\n",
    "# print(files_sorted)\n",
    "#     print(item)\n",
    "index_row = 0\n",
    "column = 0\n",
    "index_row = 0\n",
    "column = 1\n",
    "for item in files_sorted:\n",
    "    Sheet1.write(f\"A{index_row}\",f'=HYPERLINK(CONCATENATE(INFO(\"DIRECTORY\"),\"{item}\"))')         \n",
    "    index_row = index_row + 1\n",
    "#     if index_row == 2:\n",
    "#         column = column + 1 \n",
    "#         index_row = 0\n",
    "wb.close()       \n"
   ]
  },
  {
   "cell_type": "code",
   "execution_count": 4,
   "id": "177ff8ee",
   "metadata": {},
   "outputs": [
    {
     "name": "stdout",
     "output_type": "stream",
     "text": [
      "[1, 10, 11, 12, 2, 2]\n"
     ]
    }
   ],
   "source": [
    "my_list = [1, 2,11, 10, 12,2]\n",
    "sorted_list = sorted(my_list, key=lambda x: str(x))\n",
    "print(sorted_list)"
   ]
  },
  {
   "cell_type": "code",
   "execution_count": 36,
   "id": "87136b78",
   "metadata": {},
   "outputs": [
    {
     "name": "stdout",
     "output_type": "stream",
     "text": [
      "1\n",
      "2\n",
      "3\n",
      "4\n",
      "5\n",
      "6\n",
      "7\n",
      "8\n",
      "9\n"
     ]
    }
   ],
   "source": [
    "for i in range (0,29):\n",
    "    if 1<=i<=9:\n",
    "        print(i)"
   ]
  },
  {
   "cell_type": "code",
   "execution_count": 38,
   "id": "a2b3ecbc",
   "metadata": {},
   "outputs": [
    {
     "name": "stdout",
     "output_type": "stream",
     "text": [
      "Are you part of:yes\n",
      "Lecture Attended:2\n",
      "Not Eligible for Certificate,Lecture Attended is less than 3\n"
     ]
    }
   ],
   "source": [
    "inp = input(\"Are you part of:\")\n",
    "if inp.lower() == \"yes\":\n",
    "    lect = int(input(\"Lecture Attended:\"))\n",
    "    if lect >=3:\n",
    "        ass = int(input(\"Assingment Completed:\"))\n",
    "        if ass >= 3:\n",
    "            print(\"Eligible for Certificate\")\n",
    "        else:\n",
    "            print(\"Not Eligible for Certificate, Assingment Completed is less than 3\")\n",
    "    else:\n",
    "        print(\"Not Eligible for Certificate,Lecture Attended is less than 3\")\n",
    "else:\n",
    "    print(\"Not Eligible for Certificate\")"
   ]
  },
  {
   "cell_type": "code",
   "execution_count": null,
   "id": "8fe67d65",
   "metadata": {},
   "outputs": [],
   "source": []
  }
 ],
 "metadata": {
  "kernelspec": {
   "display_name": "Python 3 (ipykernel)",
   "language": "python",
   "name": "python3"
  },
  "language_info": {
   "codemirror_mode": {
    "name": "ipython",
    "version": 3
   },
   "file_extension": ".py",
   "mimetype": "text/x-python",
   "name": "python",
   "nbconvert_exporter": "python",
   "pygments_lexer": "ipython3",
   "version": "3.10.9"
  }
 },
 "nbformat": 4,
 "nbformat_minor": 5
}
