{
 "cells": [
  {
   "cell_type": "code",
   "execution_count": 58,
   "id": "a5f72438",
   "metadata": {},
   "outputs": [],
   "source": [
    "from bs4 import BeautifulSoup\n",
    "import os\n",
    "import pandas as pd\n",
    "import xlsxwriter\n",
    "with open('C:/Users/ACER/Downloads/BRE_1-2023-03-13-08-58-37-219-0.html') as f:\n",
    "    html_string = f.read()\n",
    "soup = BeautifulSoup(html_string, 'html.parser')\n",
    "# Find the first div tag in the HTML file\n",
    "code = soup.find_all('code')\n",
    "request = os.getcwd() + \"\\\\Request\"\n",
    "response = os.getcwd() + \"\\\\Response\"\n",
    "\n",
    "abc = []\n",
    "for item in code:\n",
    "    abc.append(item)\n",
    "counter = 0\n",
    "num = 1\n",
    "num1 = 1\n",
    "\n",
    "for i in abc:\n",
    "    i = str(i)\n",
    "    if counter % 2 == 0:\n",
    "        if 1<=num<=9:\n",
    "            with open(f\"{request}\\\\0{num}_Request.txt\", mode=\"w\", encoding=\"utf-8\") as f:\n",
    "                f.write(i.replace('<code class=\"prettyPrint\" id=\"copyReqText-0\">','').replace('</code>','').replace('<code class=\"prettyPrint\" id=\"copyText-a021efbe-13bf-4e3d-b64e-c4381c5af8bd\">',''))\n",
    "        else:\n",
    "            with open(f\"{request}\\\\{num}_Request.txt\", mode=\"w\", encoding=\"utf-8\") as f:\n",
    "                f.write(i.replace('<code class=\"prettyPrint\" id=\"copyReqText-0\">','').replace('</code>','').replace('<code class=\"prettyPrint\" id=\"copyText-a021efbe-13bf-4e3d-b64e-c4381c5af8bd\">',''))\n",
    "        if num == 73:\n",
    "            break\n",
    "        num = num +1\n",
    "    else:\n",
    "        if 1<=num<=9:\n",
    "            with open(f\"{response}\\\\0{num1}_Response.txt\", mode=\"w\", encoding=\"utf-8\") as f:\n",
    "                f.write(i.replace('<code class=\"prettyPrint\" id=\"copyReqText-0\">','').replace('</code>','').replace('<code class=\"prettyPrint\" id=\"copyText-a021efbe-13bf-4e3d-b64e-c4381c5af8bd\">',''))\n",
    "        else:\n",
    "            with open(f\"{response}\\\\{num1}_Response.txt\", mode=\"w\", encoding=\"utf-8\") as f:\n",
    "                f.write(i.replace('<code class=\"prettyPrint\" id=\"copyReqText-0\">','').replace('</code>','').replace('<code class=\"prettyPrint\" id=\"copyText-a021efbe-13bf-4e3d-b64e-c4381c5af8bd\">',''))\n",
    "        \n",
    "        num1 +=1\n",
    "    counter += 1\n",
    "    \n",
    "# Creating New Workbook and also adding sheet with name \"sheet\" adding Request to \n",
    "wb = xlsxwriter.Workbook(r'C:\\Users\\ACER\\Request_Response.xlsx')\n",
    "Sheet1 = wb.add_worksheet(\"sheet\")\n",
    "\n",
    "files = []\n",
    "folder_request = os.getcwd() + \"\\\\Request\"\n",
    "for file in os.listdir(folder_request):\n",
    "    if file.endswith('.txt'):\n",
    "        files.append(file)\n",
    "files_sorted = sorted(files, key=lambda x: str(x))\n",
    "column = 0\n",
    "index_row = 2\n",
    "column = 1\n",
    "for item in files_sorted:\n",
    "    Sheet1.write(f\"A{index_row}\",f'=HYPERLINK(CONCATENATE(LEFT(CELL(\"filename\",A1),FIND(\"[\",CELL(\"filename\",A1))-1),\"\\\\Request\\\\{item}\"))')         \n",
    "    index_row = index_row + 1\n",
    "\n",
    "files = []\n",
    "folder_response = os.getcwd() + \"\\\\Response\"\n",
    "for file in os.listdir(folder_response):\n",
    "    if file.endswith('.txt'):\n",
    "        files.append(file)\n",
    "\n",
    "files_sorted = sorted(files, key=lambda x: str(x))\n",
    "column = 0\n",
    "index_row = 2\n",
    "column = 1\n",
    "for item in files_sorted:\n",
    "    Sheet1.write(f\"B{index_row}\",f'=HYPERLINK(CONCATENATE(LEFT(CELL(\"filename\",A1),FIND(\"[\",CELL(\"filename\",A1))-1),\"\\\\Response\\\\{item}\"))')         \n",
    "    index_row = index_row + 1\n",
    "wb.close()       \n"
   ]
  },
  {
   "cell_type": "code",
   "execution_count": 26,
   "id": "5194f85b",
   "metadata": {},
   "outputs": [],
   "source": []
  },
  {
   "cell_type": "code",
   "execution_count": 38,
   "id": "94eb13bd",
   "metadata": {},
   "outputs": [
    {
     "name": "stdout",
     "output_type": "stream",
     "text": [
      "Are you part of:yes\n",
      "Lecture Attended:2\n",
      "Not Eligible for Certificate,Lecture Attended is less than 3\n"
     ]
    }
   ],
   "source": [
    "inp = input(\"Are you part of:\")\n",
    "if inp.lower() == \"yes\":\n",
    "    lect = int(input(\"Lecture Attended:\"))\n",
    "    if lect >=3:\n",
    "        ass = int(input(\"Assingment Completed:\"))\n",
    "        if ass >= 3:\n",
    "            print(\"Eligible for Certificate\")\n",
    "        else:\n",
    "            print(\"Not Eligible for Certificate, Assingment Completed is less than 3\")\n",
    "    else:\n",
    "        print(\"Not Eligible for Certificate,Lecture Attended is less than 3\")\n",
    "else:\n",
    "    print(\"Not Eligible for Certificate\")"
   ]
  },
  {
   "cell_type": "code",
   "execution_count": 51,
   "id": "1ca828d3",
   "metadata": {},
   "outputs": [
    {
     "name": "stdout",
     "output_type": "stream",
     "text": [
      "Enter the kind of dev:ert\n",
      "Option not present\n"
     ]
    }
   ],
   "source": [
    "type_of_dev = input(\"Enter the kind of dev:\")\n",
    "if type_of_dev.lower() == \"app developer\":\n",
    "    which_type = input(\" Native or Hybrid\")\n",
    "    if which_type.lower() == \"native\":\n",
    "        print(\"Native Developer\")\n",
    "    elif which_type.lower() == \"hybrid\":\n",
    "        print(\"Hybrid Developer\")\n",
    "elif type_of_dev.lower() == \"web developer\":\n",
    "    which_type = input(\" Frontend or Backend\")\n",
    "    if which_type.lower() == \"frontend\":\n",
    "        print(\"Frontend Developer\")\n",
    "    elif which_type.lower() == \"backend\":\n",
    "        print(\"Backend Developer\")\n",
    "elif type_of_dev.lower() == \"data science\":\n",
    "    print(\"You can learn python\")\n",
    "elif type_of_dev.lower() == \"cyber security\":\n",
    "        print(\"You can learn Networking\")\n",
    "else:\n",
    "    print(\"Option not present\")\n"
   ]
  },
  {
   "cell_type": "code",
   "execution_count": null,
   "id": "184880af",
   "metadata": {},
   "outputs": [],
   "source": []
  }
 ],
 "metadata": {
  "kernelspec": {
   "display_name": "Python 3 (ipykernel)",
   "language": "python",
   "name": "python3"
  },
  "language_info": {
   "codemirror_mode": {
    "name": "ipython",
    "version": 3
   },
   "file_extension": ".py",
   "mimetype": "text/x-python",
   "name": "python",
   "nbconvert_exporter": "python",
   "pygments_lexer": "ipython3",
   "version": "3.10.9"
  }
 },
 "nbformat": 4,
 "nbformat_minor": 5
}
